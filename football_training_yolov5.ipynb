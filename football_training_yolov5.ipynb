{
  "cells": [
    {
      "cell_type": "code",
      "execution_count": 1,
      "metadata": {},
      "outputs": [
        {
          "name": "stdout",
          "output_type": "stream",
          "text": [
            "hello\n"
          ]
        }
      ],
      "source": [
        "print(\"hello\")"
      ]
    },
    {
      "cell_type": "code",
      "execution_count": 2,
      "metadata": {
        "colab": {
          "base_uri": "https://localhost:8080/"
        },
        "id": "vtG7VrwIksuS",
        "outputId": "47d5dc82-99f2-4a6a-ea0a-97625dafadae"
      },
      "outputs": [
        {
          "name": "stdout",
          "output_type": "stream",
          "text": [
            "Requirement already satisfied: ultralytics in .\\.venv\\lib\\site-packages (8.3.24)\n",
            "Requirement already satisfied: numpy>=1.23.0 in .\\.venv\\lib\\site-packages (from ultralytics) (2.1.2)\n",
            "Requirement already satisfied: matplotlib>=3.3.0 in .\\.venv\\lib\\site-packages (from ultralytics) (3.9.2)\n",
            "Requirement already satisfied: opencv-python>=4.6.0 in .\\.venv\\lib\\site-packages (from ultralytics) (4.10.0.84)\n",
            "Requirement already satisfied: pillow>=7.1.2 in .\\.venv\\lib\\site-packages (from ultralytics) (11.0.0)\n",
            "Requirement already satisfied: pyyaml>=5.3.1 in .\\.venv\\lib\\site-packages (from ultralytics) (6.0.2)\n",
            "Requirement already satisfied: requests>=2.23.0 in .\\.venv\\lib\\site-packages (from ultralytics) (2.32.3)\n",
            "Requirement already satisfied: scipy>=1.4.1 in .\\.venv\\lib\\site-packages (from ultralytics) (1.14.1)\n",
            "Requirement already satisfied: torch>=1.8.0 in .\\.venv\\lib\\site-packages (from ultralytics) (2.5.0)\n",
            "Requirement already satisfied: torchvision>=0.9.0 in .\\.venv\\lib\\site-packages (from ultralytics) (0.20.0)\n",
            "Requirement already satisfied: tqdm>=4.64.0 in .\\.venv\\lib\\site-packages (from ultralytics) (4.66.6)\n",
            "Requirement already satisfied: psutil in .\\.venv\\lib\\site-packages (from ultralytics) (6.1.0)\n",
            "Requirement already satisfied: py-cpuinfo in .\\.venv\\lib\\site-packages (from ultralytics) (9.0.0)\n",
            "Requirement already satisfied: pandas>=1.1.4 in .\\.venv\\lib\\site-packages (from ultralytics) (2.2.3)\n",
            "Requirement already satisfied: seaborn>=0.11.0 in .\\.venv\\lib\\site-packages (from ultralytics) (0.13.2)\n",
            "Requirement already satisfied: ultralytics-thop>=2.0.0 in .\\.venv\\lib\\site-packages (from ultralytics) (2.0.9)\n",
            "Requirement already satisfied: contourpy>=1.0.1 in .\\.venv\\lib\\site-packages (from matplotlib>=3.3.0->ultralytics) (1.3.0)\n",
            "Requirement already satisfied: cycler>=0.10 in .\\.venv\\lib\\site-packages (from matplotlib>=3.3.0->ultralytics) (0.12.1)\n",
            "Requirement already satisfied: fonttools>=4.22.0 in .\\.venv\\lib\\site-packages (from matplotlib>=3.3.0->ultralytics) (4.54.1)\n",
            "Requirement already satisfied: kiwisolver>=1.3.1 in .\\.venv\\lib\\site-packages (from matplotlib>=3.3.0->ultralytics) (1.4.7)\n",
            "Requirement already satisfied: packaging>=20.0 in .\\.venv\\lib\\site-packages (from matplotlib>=3.3.0->ultralytics) (24.1)\n",
            "Requirement already satisfied: pyparsing>=2.3.1 in .\\.venv\\lib\\site-packages (from matplotlib>=3.3.0->ultralytics) (3.2.0)\n",
            "Requirement already satisfied: python-dateutil>=2.7 in .\\.venv\\lib\\site-packages (from matplotlib>=3.3.0->ultralytics) (2.9.0.post0)\n",
            "Requirement already satisfied: pytz>=2020.1 in .\\.venv\\lib\\site-packages (from pandas>=1.1.4->ultralytics) (2024.2)\n",
            "Requirement already satisfied: tzdata>=2022.7 in .\\.venv\\lib\\site-packages (from pandas>=1.1.4->ultralytics) (2024.2)\n",
            "Requirement already satisfied: charset-normalizer<4,>=2 in .\\.venv\\lib\\site-packages (from requests>=2.23.0->ultralytics) (3.4.0)\n",
            "Requirement already satisfied: idna<4,>=2.5 in .\\.venv\\lib\\site-packages (from requests>=2.23.0->ultralytics) (3.10)\n",
            "Requirement already satisfied: urllib3<3,>=1.21.1 in .\\.venv\\lib\\site-packages (from requests>=2.23.0->ultralytics) (2.2.3)\n",
            "Requirement already satisfied: certifi>=2017.4.17 in .\\.venv\\lib\\site-packages (from requests>=2.23.0->ultralytics) (2024.8.30)\n",
            "Requirement already satisfied: filelock in .\\.venv\\lib\\site-packages (from torch>=1.8.0->ultralytics) (3.16.1)\n",
            "Requirement already satisfied: typing-extensions>=4.8.0 in .\\.venv\\lib\\site-packages (from torch>=1.8.0->ultralytics) (4.12.2)\n",
            "Requirement already satisfied: networkx in .\\.venv\\lib\\site-packages (from torch>=1.8.0->ultralytics) (3.4.2)\n",
            "Requirement already satisfied: jinja2 in .\\.venv\\lib\\site-packages (from torch>=1.8.0->ultralytics) (3.1.4)\n",
            "Requirement already satisfied: fsspec in .\\.venv\\lib\\site-packages (from torch>=1.8.0->ultralytics) (2024.10.0)\n",
            "Requirement already satisfied: setuptools in .\\.venv\\lib\\site-packages (from torch>=1.8.0->ultralytics) (75.2.0)\n",
            "Requirement already satisfied: sympy==1.13.1 in .\\.venv\\lib\\site-packages (from torch>=1.8.0->ultralytics) (1.13.1)\n",
            "Requirement already satisfied: mpmath<1.4,>=1.1.0 in .\\.venv\\lib\\site-packages (from sympy==1.13.1->torch>=1.8.0->ultralytics) (1.3.0)\n",
            "Requirement already satisfied: colorama in .\\.venv\\lib\\site-packages (from tqdm>=4.64.0->ultralytics) (0.4.6)\n",
            "Requirement already satisfied: six>=1.5 in .\\.venv\\lib\\site-packages (from python-dateutil>=2.7->matplotlib>=3.3.0->ultralytics) (1.16.0)\n",
            "Requirement already satisfied: MarkupSafe>=2.0 in .\\.venv\\lib\\site-packages (from jinja2->torch>=1.8.0->ultralytics) (3.0.2)\n",
            "Note: you may need to restart the kernel to use updated packages.\n",
            "Collecting roboflow\n",
            "  Downloading roboflow-1.1.48-py3-none-any.whl.metadata (9.7 kB)\n",
            "Requirement already satisfied: certifi in .\\.venv\\lib\\site-packages (from roboflow) (2024.8.30)\n",
            "Collecting idna==3.7 (from roboflow)\n",
            "  Downloading idna-3.7-py3-none-any.whl.metadata (9.9 kB)\n",
            "Requirement already satisfied: cycler in .\\.venv\\lib\\site-packages (from roboflow) (0.12.1)\n",
            "Requirement already satisfied: kiwisolver>=1.3.1 in .\\.venv\\lib\\site-packages (from roboflow) (1.4.7)\n",
            "Requirement already satisfied: matplotlib in .\\.venv\\lib\\site-packages (from roboflow) (3.9.2)\n",
            "Requirement already satisfied: numpy>=1.18.5 in .\\.venv\\lib\\site-packages (from roboflow) (2.1.2)\n",
            "Collecting opencv-python-headless==4.10.0.84 (from roboflow)\n",
            "  Downloading opencv_python_headless-4.10.0.84-cp37-abi3-win_amd64.whl.metadata (20 kB)\n",
            "Requirement already satisfied: Pillow>=7.1.2 in .\\.venv\\lib\\site-packages (from roboflow) (11.0.0)\n",
            "Requirement already satisfied: python-dateutil in .\\.venv\\lib\\site-packages (from roboflow) (2.9.0.post0)\n",
            "Collecting python-dotenv (from roboflow)\n",
            "  Downloading python_dotenv-1.0.1-py3-none-any.whl.metadata (23 kB)\n",
            "Requirement already satisfied: requests in .\\.venv\\lib\\site-packages (from roboflow) (2.32.3)\n",
            "Requirement already satisfied: six in .\\.venv\\lib\\site-packages (from roboflow) (1.16.0)\n",
            "Requirement already satisfied: urllib3>=1.26.6 in .\\.venv\\lib\\site-packages (from roboflow) (2.2.3)\n",
            "Requirement already satisfied: tqdm>=4.41.0 in .\\.venv\\lib\\site-packages (from roboflow) (4.66.6)\n",
            "Requirement already satisfied: PyYAML>=5.3.1 in .\\.venv\\lib\\site-packages (from roboflow) (6.0.2)\n",
            "Collecting requests-toolbelt (from roboflow)\n",
            "  Downloading requests_toolbelt-1.0.0-py2.py3-none-any.whl.metadata (14 kB)\n",
            "Collecting filetype (from roboflow)\n",
            "  Downloading filetype-1.2.0-py2.py3-none-any.whl.metadata (6.5 kB)\n",
            "Requirement already satisfied: colorama in .\\.venv\\lib\\site-packages (from tqdm>=4.41.0->roboflow) (0.4.6)\n",
            "Requirement already satisfied: contourpy>=1.0.1 in .\\.venv\\lib\\site-packages (from matplotlib->roboflow) (1.3.0)\n",
            "Requirement already satisfied: fonttools>=4.22.0 in .\\.venv\\lib\\site-packages (from matplotlib->roboflow) (4.54.1)\n",
            "Requirement already satisfied: packaging>=20.0 in .\\.venv\\lib\\site-packages (from matplotlib->roboflow) (24.1)\n",
            "Requirement already satisfied: pyparsing>=2.3.1 in .\\.venv\\lib\\site-packages (from matplotlib->roboflow) (3.2.0)\n",
            "Requirement already satisfied: charset-normalizer<4,>=2 in .\\.venv\\lib\\site-packages (from requests->roboflow) (3.4.0)\n",
            "Downloading roboflow-1.1.48-py3-none-any.whl (80 kB)\n",
            "Downloading idna-3.7-py3-none-any.whl (66 kB)\n",
            "Downloading opencv_python_headless-4.10.0.84-cp37-abi3-win_amd64.whl (38.8 MB)\n",
            "   ---------------------------------------- 0.0/38.8 MB ? eta -:--:--\n",
            "   ---------------------------------------- 0.0/38.8 MB ? eta -:--:--\n",
            "   ---------------------------------------- 0.0/38.8 MB ? eta -:--:--\n",
            "   ---------------------------------------- 0.0/38.8 MB ? eta -:--:--\n",
            "   ---------------------------------------- 0.0/38.8 MB ? eta -:--:--\n",
            "   ---------------------------------------- 0.0/38.8 MB ? eta -:--:--\n",
            "   ---------------------------------------- 0.0/38.8 MB ? eta -:--:--\n",
            "   ---------------------------------------- 0.3/38.8 MB ? eta -:--:--\n",
            "   ---------------------------------------- 0.3/38.8 MB ? eta -:--:--\n",
            "   ---------------------------------------- 0.3/38.8 MB ? eta -:--:--\n",
            "   ---------------------------------------- 0.3/38.8 MB ? eta -:--:--\n",
            "    --------------------------------------- 0.5/38.8 MB 284.3 kB/s eta 0:02:15\n",
            "    --------------------------------------- 0.5/38.8 MB 284.3 kB/s eta 0:02:15\n",
            "    --------------------------------------- 0.5/38.8 MB 284.3 kB/s eta 0:02:15\n",
            "    --------------------------------------- 0.5/38.8 MB 284.3 kB/s eta 0:02:15\n",
            "    --------------------------------------- 0.8/38.8 MB 310.6 kB/s eta 0:02:03\n",
            "    --------------------------------------- 0.8/38.8 MB 310.6 kB/s eta 0:02:03\n",
            "    --------------------------------------- 0.8/38.8 MB 310.6 kB/s eta 0:02:03\n",
            "   - -------------------------------------- 1.0/38.8 MB 337.8 kB/s eta 0:01:52\n",
            "   - -------------------------------------- 1.0/38.8 MB 337.8 kB/s eta 0:01:52\n",
            "   - -------------------------------------- 1.3/38.8 MB 362.7 kB/s eta 0:01:44\n",
            "   - -------------------------------------- 1.3/38.8 MB 362.7 kB/s eta 0:01:44\n",
            "   - -------------------------------------- 1.3/38.8 MB 362.7 kB/s eta 0:01:44\n",
            "   - -------------------------------------- 1.6/38.8 MB 388.4 kB/s eta 0:01:36\n",
            "   - -------------------------------------- 1.6/38.8 MB 388.4 kB/s eta 0:01:36\n",
            "   - -------------------------------------- 1.8/38.8 MB 412.5 kB/s eta 0:01:30\n",
            "   -- ------------------------------------- 2.1/38.8 MB 446.5 kB/s eta 0:01:23\n",
            "   -- ------------------------------------- 2.1/38.8 MB 446.5 kB/s eta 0:01:23\n",
            "   -- ------------------------------------- 2.4/38.8 MB 475.9 kB/s eta 0:01:17\n",
            "   -- ------------------------------------- 2.6/38.8 MB 508.4 kB/s eta 0:01:12\n",
            "   -- ------------------------------------- 2.9/38.8 MB 539.4 kB/s eta 0:01:07\n",
            "   --- ------------------------------------ 3.1/38.8 MB 571.3 kB/s eta 0:01:03\n",
            "   --- ------------------------------------ 3.7/38.8 MB 632.1 kB/s eta 0:00:56\n",
            "   ---- ----------------------------------- 3.9/38.8 MB 663.4 kB/s eta 0:00:53\n",
            "   ---- ----------------------------------- 4.5/38.8 MB 721.5 kB/s eta 0:00:48\n",
            "   ---- ----------------------------------- 4.7/38.8 MB 750.5 kB/s eta 0:00:46\n",
            "   ----- ---------------------------------- 5.2/38.8 MB 803.0 kB/s eta 0:00:42\n",
            "   ----- ---------------------------------- 5.8/38.8 MB 853.1 kB/s eta 0:00:39\n",
            "   ------ --------------------------------- 6.3/38.8 MB 905.7 kB/s eta 0:00:36\n",
            "   ------- -------------------------------- 6.8/38.8 MB 955.3 kB/s eta 0:00:34\n",
            "   ------- -------------------------------- 7.3/38.8 MB 1.0 MB/s eta 0:00:32\n",
            "   -------- ------------------------------- 8.1/38.8 MB 1.1 MB/s eta 0:00:29\n",
            "   -------- ------------------------------- 8.7/38.8 MB 1.1 MB/s eta 0:00:27\n",
            "   --------- ------------------------------ 9.4/38.8 MB 1.2 MB/s eta 0:00:25\n",
            "   ---------- ----------------------------- 10.2/38.8 MB 1.3 MB/s eta 0:00:23\n",
            "   ----------- ---------------------------- 11.0/38.8 MB 1.3 MB/s eta 0:00:21\n",
            "   ----------- ---------------------------- 11.5/38.8 MB 1.4 MB/s eta 0:00:20\n",
            "   ------------ --------------------------- 12.3/38.8 MB 1.4 MB/s eta 0:00:19\n",
            "   ------------- -------------------------- 13.1/38.8 MB 1.5 MB/s eta 0:00:18\n",
            "   -------------- ------------------------- 13.6/38.8 MB 1.5 MB/s eta 0:00:17\n",
            "   -------------- ------------------------- 14.4/38.8 MB 1.5 MB/s eta 0:00:16\n",
            "   --------------- ------------------------ 15.2/38.8 MB 1.6 MB/s eta 0:00:15\n",
            "   ---------------- ----------------------- 16.0/38.8 MB 1.6 MB/s eta 0:00:14\n",
            "   ----------------- ---------------------- 16.5/38.8 MB 1.7 MB/s eta 0:00:14\n",
            "   ----------------- ---------------------- 17.3/38.8 MB 1.7 MB/s eta 0:00:13\n",
            "   ------------------ --------------------- 18.1/38.8 MB 1.7 MB/s eta 0:00:12\n",
            "   ------------------- -------------------- 18.6/38.8 MB 1.8 MB/s eta 0:00:12\n",
            "   -------------------- ------------------- 19.4/38.8 MB 1.8 MB/s eta 0:00:11\n",
            "   -------------------- ------------------- 19.9/38.8 MB 1.8 MB/s eta 0:00:11\n",
            "   --------------------- ------------------ 20.4/38.8 MB 1.8 MB/s eta 0:00:10\n",
            "   --------------------- ------------------ 21.2/38.8 MB 1.9 MB/s eta 0:00:10\n",
            "   ---------------------- ----------------- 21.8/38.8 MB 1.9 MB/s eta 0:00:10\n",
            "   ----------------------- ---------------- 22.5/38.8 MB 1.9 MB/s eta 0:00:09\n",
            "   ----------------------- ---------------- 23.1/38.8 MB 1.9 MB/s eta 0:00:09\n",
            "   ------------------------ --------------- 23.6/38.8 MB 1.9 MB/s eta 0:00:08\n",
            "   ------------------------- -------------- 24.4/38.8 MB 2.0 MB/s eta 0:00:08\n",
            "   ------------------------- -------------- 24.9/38.8 MB 2.0 MB/s eta 0:00:08\n",
            "   -------------------------- ------------- 25.7/38.8 MB 2.0 MB/s eta 0:00:07\n",
            "   --------------------------- ------------ 26.5/38.8 MB 2.0 MB/s eta 0:00:07\n",
            "   --------------------------- ------------ 27.0/38.8 MB 2.0 MB/s eta 0:00:06\n",
            "   ---------------------------- ----------- 27.8/38.8 MB 2.1 MB/s eta 0:00:06\n",
            "   ----------------------------- ---------- 28.3/38.8 MB 2.1 MB/s eta 0:00:06\n",
            "   ------------------------------ --------- 29.1/38.8 MB 2.1 MB/s eta 0:00:05\n",
            "   ------------------------------ --------- 29.6/38.8 MB 2.1 MB/s eta 0:00:05\n",
            "   ------------------------------- -------- 30.4/38.8 MB 2.1 MB/s eta 0:00:04\n",
            "   ------------------------------- -------- 30.9/38.8 MB 2.1 MB/s eta 0:00:04\n",
            "   -------------------------------- ------- 31.7/38.8 MB 2.2 MB/s eta 0:00:04\n",
            "   --------------------------------- ------ 32.5/38.8 MB 2.2 MB/s eta 0:00:03\n",
            "   ---------------------------------- ----- 33.0/38.8 MB 2.2 MB/s eta 0:00:03\n",
            "   ---------------------------------- ----- 33.8/38.8 MB 2.2 MB/s eta 0:00:03\n",
            "   ----------------------------------- ---- 34.3/38.8 MB 2.2 MB/s eta 0:00:02\n",
            "   ------------------------------------ --- 35.1/38.8 MB 2.2 MB/s eta 0:00:02\n",
            "   ------------------------------------ --- 35.7/38.8 MB 2.2 MB/s eta 0:00:02\n",
            "   ------------------------------------- -- 36.4/38.8 MB 2.3 MB/s eta 0:00:02\n",
            "   -------------------------------------- - 37.0/38.8 MB 2.3 MB/s eta 0:00:01\n",
            "   -------------------------------------- - 37.7/38.8 MB 2.3 MB/s eta 0:00:01\n",
            "   ---------------------------------------  38.3/38.8 MB 2.3 MB/s eta 0:00:01\n",
            "   ---------------------------------------- 38.8/38.8 MB 2.3 MB/s eta 0:00:00\n",
            "Downloading filetype-1.2.0-py2.py3-none-any.whl (19 kB)\n",
            "Downloading python_dotenv-1.0.1-py3-none-any.whl (19 kB)\n",
            "Downloading requests_toolbelt-1.0.0-py2.py3-none-any.whl (54 kB)\n",
            "Installing collected packages: filetype, python-dotenv, opencv-python-headless, idna, requests-toolbelt, roboflow\n",
            "  Attempting uninstall: idna\n",
            "    Found existing installation: idna 3.10\n",
            "    Uninstalling idna-3.10:\n",
            "      Successfully uninstalled idna-3.10\n",
            "Successfully installed filetype-1.2.0 idna-3.7 opencv-python-headless-4.10.0.84 python-dotenv-1.0.1 requests-toolbelt-1.0.0 roboflow-1.1.48\n",
            "Note: you may need to restart the kernel to use updated packages.\n"
          ]
        }
      ],
      "source": [
        "%pip install ultralytics\n",
        "%pip install roboflow"
      ]
    },
    {
      "cell_type": "code",
      "execution_count": null,
      "metadata": {
        "id": "IMArAMSvksuV"
      },
      "outputs": [],
      "source": []
    },
    {
      "cell_type": "markdown",
      "metadata": {
        "id": "SJhJlhYRksuW"
      },
      "source": [
        "get data set\n"
      ]
    },
    {
      "cell_type": "code",
      "execution_count": 3,
      "metadata": {
        "colab": {
          "base_uri": "https://localhost:8080/"
        },
        "id": "ggWVDJyvksuX",
        "outputId": "3903ed1d-23b1-40ec-e012-6cf125316451"
      },
      "outputs": [
        {
          "name": "stdout",
          "output_type": "stream",
          "text": [
            "loading Roboflow workspace...\n",
            "loading Roboflow project...\n"
          ]
        },
        {
          "name": "stderr",
          "output_type": "stream",
          "text": [
            "Downloading Dataset Version Zip in football-players-detection-1 to yolov5pytorch:: 100%|██████████| 148663/148663 [02:33<00:00, 970.01it/s] "
          ]
        },
        {
          "name": "stdout",
          "output_type": "stream",
          "text": [
            "\n"
          ]
        },
        {
          "name": "stderr",
          "output_type": "stream",
          "text": [
            "\n",
            "Extracting Dataset Version Zip to football-players-detection-1 in yolov5pytorch:: 100%|██████████| 1338/1338 [00:00<00:00, 3507.78it/s]\n"
          ]
        }
      ],
      "source": [
        "from roboflow import Roboflow\n",
        "rf = Roboflow(api_key=\"scaE2ShcTUS89n8PyVec\")\n",
        "project = rf.workspace(\"roboflow-jvuqo\").project(\"football-players-detection-3zvbc\")\n",
        "version = project.version(1)\n",
        "dataset = version.download(\"yolov5\")\n"
      ]
    },
    {
      "cell_type": "code",
      "execution_count": 4,
      "metadata": {
        "colab": {
          "base_uri": "https://localhost:8080/",
          "height": 36
        },
        "id": "ARyGXBjfksuZ",
        "outputId": "d2ba07b2-7967-40d4-9cfb-14108aa76dc0"
      },
      "outputs": [
        {
          "data": {
            "text/plain": [
              "'e:\\\\football-prediction-v8\\\\football-players-detection-1'"
            ]
          },
          "execution_count": 4,
          "metadata": {},
          "output_type": "execute_result"
        }
      ],
      "source": [
        "dataset.location"
      ]
    },
    {
      "cell_type": "markdown",
      "metadata": {
        "id": "hOtD2lN5ksuZ"
      },
      "source": [
        "#copying data\n"
      ]
    },
    {
      "cell_type": "code",
      "execution_count": 5,
      "metadata": {
        "colab": {
          "base_uri": "https://localhost:8080/",
          "height": 36
        },
        "id": "WC6qyuqhQWBS",
        "outputId": "035c2473-ca2b-4725-e819-813b5864cd3c"
      },
      "outputs": [
        {
          "data": {
            "text/plain": [
              "'football-players-detection-1/football-players-detection-1/valid'"
            ]
          },
          "execution_count": 5,
          "metadata": {},
          "output_type": "execute_result"
        }
      ],
      "source": [
        "import shutil\n",
        "\n",
        "shutil.move('football-players-detection-1/train',\n",
        "            'football-players-detection-1/football-players-detection-1/train')\n",
        "\n",
        "shutil.move('football-players-detection-1/test',\n",
        "            'football-players-detection-1/football-players-detection-1/test')\n",
        "\n",
        "shutil.move('football-players-detection-1/valid',\n",
        "            'football-players-detection-1/football-players-detection-1/valid')"
      ]
    },
    {
      "cell_type": "markdown",
      "metadata": {
        "id": "7DA0ehPbksua"
      },
      "source": [
        "training"
      ]
    },
    {
      "cell_type": "code",
      "execution_count": null,
      "metadata": {},
      "outputs": [],
      "source": [
        "!yolo task=detect mode=train model=yolov5su.pt data={dataset.location}/data.yaml epochs=50 batch=8 imgsz=640\n",
        "\n",
        "#dont run it in pc, ue google colab then download best.pt and last.pt for reference models"
      ]
    },
    {
      "cell_type": "markdown",
      "metadata": {
        "id": "3JI4aiGgzKyA"
      },
      "source": []
    }
  ],
  "metadata": {
    "colab": {
      "provenance": []
    },
    "kernelspec": {
      "display_name": ".venv",
      "language": "python",
      "name": "python3"
    },
    "language_info": {
      "codemirror_mode": {
        "name": "ipython",
        "version": 3
      },
      "file_extension": ".py",
      "mimetype": "text/x-python",
      "name": "python",
      "nbconvert_exporter": "python",
      "pygments_lexer": "ipython3",
      "version": "3.12.7"
    }
  },
  "nbformat": 4,
  "nbformat_minor": 0
}
